{
 "cells": [
  {
   "cell_type": "code",
   "execution_count": 1,
   "id": "e2564d83-2b25-44b5-bdcb-653513b8b892",
   "metadata": {},
   "outputs": [
    {
     "name": "stdout",
     "output_type": "stream",
     "text": [
      "rishi@123\n"
     ]
    },
    {
     "name": "stdin",
     "output_type": "stream",
     "text": [
      "Enter the password:  ';l\n"
     ]
    },
    {
     "name": "stdout",
     "output_type": "stream",
     "text": [
      "permission denied\n"
     ]
    }
   ],
   "source": [
    "import webbrowser\n",
    "\n",
    "with open(\"password_new.txt\") as file:\n",
    "    correct_password = file.read()[-9::]\n",
    "print(correct_password)\n",
    "input = input(\"Enter the password: \") \n",
    "if input == correct_password:\n",
    "    webbrowser.get().open_new('https://www.google.com')\n",
    "else:\n",
    "    print(\"permission denied\")\n",
    "\n"
   ]
  },
  {
   "cell_type": "code",
   "execution_count": 12,
   "id": "52e5cb20-e654-4b48-b329-f0c5dc999312",
   "metadata": {},
   "outputs": [
    {
     "name": "stdin",
     "output_type": "stream",
     "text": [
      "Enter your username:  rishi\n",
      "Enter your password:  rishi@123\n"
     ]
    }
   ],
   "source": [
    "import webbrowser\n",
    "\n",
    "with open(\"username_file.txt\",'r')as file:\n",
    "     correct_username = file.read()\n",
    "with open(\"userpassword_file.txt\",'r')as file:\n",
    "    correct_password = file.read()\n",
    "    username = input(\"Enter your username: \")\n",
    "password = input(\"Enter your password: \")\n",
    "if username == correct_username and password == correct_password:\n",
    "    webbrowser.get() .open_new(\"https://www.google.com\")\n",
    "else:\n",
    "    print(\"Username and password is incorrect\")\n",
    "\n",
    "\n",
    " "
   ]
  },
  {
   "cell_type": "code",
   "execution_count": null,
   "id": "f460d5ee-e3d9-493c-a49b-04c0843456ff",
   "metadata": {},
   "outputs": [],
   "source": []
  },
  {
   "cell_type": "code",
   "execution_count": null,
   "id": "2406d4c9-b7dd-4a4c-affb-3a8bd2fa2715",
   "metadata": {},
   "outputs": [],
   "source": []
  },
  {
   "cell_type": "code",
   "execution_count": null,
   "id": "09f045d3-07ab-4d8b-8704-895049c09af6",
   "metadata": {},
   "outputs": [],
   "source": []
  },
  {
   "cell_type": "code",
   "execution_count": null,
   "id": "c4d67dfe-9294-4abf-9c66-6f11ad77f3ae",
   "metadata": {},
   "outputs": [],
   "source": []
  },
  {
   "cell_type": "code",
   "execution_count": null,
   "id": "9f88ba75-4cdd-4b07-8bc7-92996149062f",
   "metadata": {},
   "outputs": [],
   "source": []
  },
  {
   "cell_type": "code",
   "execution_count": null,
   "id": "655add85-eee0-44bb-899f-b85c99d4b1a1",
   "metadata": {},
   "outputs": [],
   "source": []
  }
 ],
 "metadata": {
  "kernelspec": {
   "display_name": "Python 3 (ipykernel)",
   "language": "python",
   "name": "python3"
  },
  "language_info": {
   "codemirror_mode": {
    "name": "ipython",
    "version": 3
   },
   "file_extension": ".py",
   "mimetype": "text/x-python",
   "name": "python",
   "nbconvert_exporter": "python",
   "pygments_lexer": "ipython3",
   "version": "3.10.2"
  }
 },
 "nbformat": 4,
 "nbformat_minor": 5
}
